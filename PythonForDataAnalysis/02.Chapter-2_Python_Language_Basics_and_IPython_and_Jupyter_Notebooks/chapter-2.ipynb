{
 "cells": [
  {
   "cell_type": "code",
   "execution_count": 21,
   "id": "63f93463-9529-45bf-be7b-0d1618bb7c75",
   "metadata": {},
   "outputs": [],
   "source": [
    "%config Completer.use_jedi = False"
   ]
  },
  {
   "cell_type": "code",
   "execution_count": 11,
   "id": "6bcb7bc2-33c0-4c49-ad29-7e32afc851d9",
   "metadata": {},
   "outputs": [],
   "source": [
    "import numpy as np"
   ]
  },
  {
   "cell_type": "code",
   "execution_count": 12,
   "id": "81c6d8ba-7443-4e0f-bfc5-5bdfcb9f2904",
   "metadata": {},
   "outputs": [],
   "source": [
    "a = 5"
   ]
  },
  {
   "cell_type": "code",
   "execution_count": 13,
   "id": "b4aca08b-867e-4a4c-b562-6d2cb8d67e9c",
   "metadata": {},
   "outputs": [
    {
     "data": {
      "text/plain": [
       "5"
      ]
     },
     "execution_count": 13,
     "metadata": {},
     "output_type": "execute_result"
    }
   ],
   "source": [
    "a"
   ]
  },
  {
   "cell_type": "code",
   "execution_count": 14,
   "id": "7dc16a52-e5be-486b-83a1-0d537e9ecf52",
   "metadata": {},
   "outputs": [
    {
     "data": {
      "text/plain": [
       "{0: 1.5413650129967913,\n",
       " 1: 2.007191329170309,\n",
       " 2: -0.518604464198722,\n",
       " 3: 0.8053420866100122,\n",
       " 4: -1.1070783509893356,\n",
       " 5: 0.31069836467537365,\n",
       " 6: 0.6697738540518801}"
      ]
     },
     "execution_count": 14,
     "metadata": {},
     "output_type": "execute_result"
    }
   ],
   "source": [
    "data = {i: np.random.randn() for i in range(7)}\n",
    "data"
   ]
  },
  {
   "cell_type": "code",
   "execution_count": 15,
   "id": "ae40f0cd-ebfe-4afc-a2d6-95ccebcaf257",
   "metadata": {},
   "outputs": [
    {
     "name": "stdout",
     "output_type": "stream",
     "text": [
      "{0: 1.5413650129967913, 1: 2.007191329170309, 2: -0.518604464198722, 3: 0.8053420866100122, 4: -1.1070783509893356, 5: 0.31069836467537365, 6: 0.6697738540518801}\n"
     ]
    }
   ],
   "source": [
    "print(data)"
   ]
  },
  {
   "cell_type": "code",
   "execution_count": 16,
   "id": "aa9a1e88-b38d-4e7c-863a-548c41fdcf17",
   "metadata": {},
   "outputs": [
    {
     "data": {
      "text/plain": [
       "\u001b[0;31mType:\u001b[0m        int\n",
       "\u001b[0;31mString form:\u001b[0m 5\n",
       "\u001b[0;31mDocstring:\u001b[0m  \n",
       "int([x]) -> integer\n",
       "int(x, base=10) -> integer\n",
       "\n",
       "Convert a number or string to an integer, or return 0 if no arguments\n",
       "are given.  If x is a number, return x.__int__().  For floating point\n",
       "numbers, this truncates towards zero.\n",
       "\n",
       "If x is not a number or if base is given, then x must be a string,\n",
       "bytes, or bytearray instance representing an integer literal in the\n",
       "given base.  The literal can be preceded by '+' or '-' and be surrounded\n",
       "by whitespace.  The base defaults to 10.  Valid bases are 0 and 2-36.\n",
       "Base 0 means to interpret the base from the string as an integer literal.\n",
       ">>> int('0b100', base=0)\n",
       "4\n"
      ]
     },
     "metadata": {},
     "output_type": "display_data"
    }
   ],
   "source": [
    "a?"
   ]
  },
  {
   "cell_type": "code",
   "execution_count": 17,
   "id": "f7eb126a-f0d8-4a1a-8a18-133869c9e44b",
   "metadata": {},
   "outputs": [
    {
     "data": {
      "text/plain": [
       "\u001b[0;31mSignature:\u001b[0m \u001b[0madd_numbers\u001b[0m\u001b[0;34m(\u001b[0m\u001b[0ma\u001b[0m\u001b[0;34m,\u001b[0m \u001b[0mb\u001b[0m\u001b[0;34m)\u001b[0m\u001b[0;34m\u001b[0m\u001b[0;34m\u001b[0m\u001b[0m\n",
       "\u001b[0;31mDocstring:\u001b[0m\n",
       "Add two numbers \n",
       "returns sum\n",
       "----------------\n",
       "\u001b[0;31mFile:\u001b[0m      ~/Documents/KMurali99/textbook/PythonForDataAnalysis/<ipython-input-17-bcc5a33e2c74>\n",
       "\u001b[0;31mType:\u001b[0m      function\n"
      ]
     },
     "metadata": {},
     "output_type": "display_data"
    }
   ],
   "source": [
    "def add_numbers(a,b):\n",
    "    \"\"\"\n",
    "    Add two numbers \n",
    "    returns sum\n",
    "    ----------------\n",
    "    \"\"\"\n",
    "    return a+b\n",
    "add_numbers?"
   ]
  },
  {
   "cell_type": "code",
   "execution_count": 18,
   "id": "e7c0c126-ad70-4686-a0b0-8c38582302b9",
   "metadata": {},
   "outputs": [
    {
     "data": {
      "text/plain": [
       "\u001b[0;31mSignature:\u001b[0m \u001b[0madd_numbers\u001b[0m\u001b[0;34m(\u001b[0m\u001b[0ma\u001b[0m\u001b[0;34m,\u001b[0m \u001b[0mb\u001b[0m\u001b[0;34m)\u001b[0m\u001b[0;34m\u001b[0m\u001b[0;34m\u001b[0m\u001b[0m\n",
       "\u001b[0;31mSource:\u001b[0m   \n",
       "\u001b[0;32mdef\u001b[0m \u001b[0madd_numbers\u001b[0m\u001b[0;34m(\u001b[0m\u001b[0ma\u001b[0m\u001b[0;34m,\u001b[0m\u001b[0mb\u001b[0m\u001b[0;34m)\u001b[0m\u001b[0;34m:\u001b[0m\u001b[0;34m\u001b[0m\n",
       "\u001b[0;34m\u001b[0m    \u001b[0;34m\"\"\"\u001b[0m\n",
       "\u001b[0;34m    Add two numbers \u001b[0m\n",
       "\u001b[0;34m    returns sum\u001b[0m\n",
       "\u001b[0;34m    ----------------\u001b[0m\n",
       "\u001b[0;34m    \"\"\"\u001b[0m\u001b[0;34m\u001b[0m\n",
       "\u001b[0;34m\u001b[0m    \u001b[0;32mreturn\u001b[0m \u001b[0ma\u001b[0m\u001b[0;34m+\u001b[0m\u001b[0mb\u001b[0m\u001b[0;34m\u001b[0m\u001b[0;34m\u001b[0m\u001b[0m\n",
       "\u001b[0;31mFile:\u001b[0m      ~/Documents/KMurali99/textbook/PythonForDataAnalysis/<ipython-input-17-bcc5a33e2c74>\n",
       "\u001b[0;31mType:\u001b[0m      function\n"
      ]
     },
     "metadata": {},
     "output_type": "display_data"
    }
   ],
   "source": [
    "add_numbers??"
   ]
  },
  {
   "cell_type": "code",
   "execution_count": 21,
   "id": "b33c88c6-932e-4397-aeb7-4d26f5143153",
   "metadata": {},
   "outputs": [
    {
     "data": {
      "text/plain": [
       "np.__loader__\n",
       "np.load\n",
       "np.loads\n",
       "np.loadtxt"
      ]
     },
     "metadata": {},
     "output_type": "display_data"
    }
   ],
   "source": [
    "np.*load*?"
   ]
  },
  {
   "cell_type": "code",
   "execution_count": 25,
   "id": "73d4937a-62ab-480a-8d1c-f63bf0007858",
   "metadata": {},
   "outputs": [
    {
     "name": "stdout",
     "output_type": "stream",
     "text": [
      "5\n",
      "6\n",
      "7.5\n",
      "1.4666666666666666\n"
     ]
    }
   ],
   "source": [
    "%run -i 01_ipython_script_test.py\n",
    "print(a)\n",
    "print(b)\n",
    "print(c)\n",
    "print(result)"
   ]
  },
  {
   "cell_type": "code",
   "execution_count": 27,
   "id": "fd51ae01-b7ce-4208-af59-cbce64ea3e26",
   "metadata": {},
   "outputs": [],
   "source": [
    "# %load 01_ipython_script_test.py\n",
    "def f(x,y,z):\n",
    "    return (x+y)/z\n",
    "a = 5\n",
    "b = 6\n",
    "c = 7.5\n",
    "\n",
    "result = f(a,b,c)"
   ]
  },
  {
   "cell_type": "code",
   "execution_count": 2,
   "id": "7f30bdec-b005-4d3f-8c4c-2f52f2340d69",
   "metadata": {},
   "outputs": [
    {
     "name": "stderr",
     "output_type": "stream",
     "text": [
      "UsageError: Line magic function `%cpaste` not found.\n"
     ]
    }
   ],
   "source": [
    "# used in ipython shell for paste the code which is in clipboard\n",
    "%paste\n",
    "%cpaste"
   ]
  },
  {
   "cell_type": "code",
   "execution_count": 3,
   "id": "089704ea",
   "metadata": {},
   "outputs": [],
   "source": [
    "import numpy as np\n",
    "a = np.random.randn(100,100)"
   ]
  },
  {
   "cell_type": "code",
   "execution_count": 4,
   "id": "26cb104c",
   "metadata": {},
   "outputs": [
    {
     "name": "stdout",
     "output_type": "stream",
     "text": [
      "56.2 µs ± 13.7 µs per loop (mean ± std. dev. of 7 runs, 1 loop each)\n"
     ]
    }
   ],
   "source": [
    "%timeit np.dot(a,a)"
   ]
  },
  {
   "cell_type": "code",
   "execution_count": 5,
   "id": "834505c9",
   "metadata": {},
   "outputs": [],
   "source": [
    "%debug?"
   ]
  },
  {
   "cell_type": "code",
   "execution_count": 8,
   "id": "30872ffe",
   "metadata": {},
   "outputs": [
    {
     "name": "stdout",
     "output_type": "stream",
     "text": [
      "/home/krishna/Documents/KMurali99/textbook/PythonForDataAnalysis\n"
     ]
    }
   ],
   "source": [
    "path = %pwd\n",
    "print(path)"
   ]
  },
  {
   "cell_type": "code",
   "execution_count": 10,
   "id": "48a9e318",
   "metadata": {},
   "outputs": [],
   "source": [
    "# for list of magic functions\n",
    "%quickref\n",
    "%magic"
   ]
  },
  {
   "cell_type": "code",
   "execution_count": 12,
   "id": "92ed6d46",
   "metadata": {},
   "outputs": [
    {
     "data": {
      "text/plain": [
       "[<matplotlib.lines.Line2D at 0x7f7e68039c10>]"
      ]
     },
     "execution_count": 12,
     "metadata": {},
     "output_type": "execute_result"
    },
    {
     "data": {
      "image/png": "[encoded data removed]",
      "text/plain": [
       "<Figure size 432x288 with 1 Axes>"
      ]
     },
     "metadata": {
      "needs_background": "light"
     },
     "output_type": "display_data"
    }
   ],
   "source": [
    "%matplotlib inline\n",
    "import matplotlib.pyplot as plt\n",
    "plt.plot(np.random.randn(50).cumsum())"
   ]
  },
  {
   "cell_type": "markdown",
   "id": "860d8de0",
   "metadata": {},
   "source": [
    "# Python basics"
   ]
  },
  {
   "cell_type": "code",
   "execution_count": 13,
   "id": "09d09053",
   "metadata": {},
   "outputs": [
    {
     "name": "stdout",
     "output_type": "stream",
     "text": [
      "5\n",
      "6\n",
      "7\n"
     ]
    }
   ],
   "source": [
    "a=5; b=6; c=7\n",
    "print(a); print(b); print(c)"
   ]
  },
  {
   "cell_type": "code",
   "execution_count": 15,
   "id": "4d8c009a",
   "metadata": {},
   "outputs": [
    {
     "name": "stdout",
     "output_type": "stream",
     "text": [
      "[1, 2, 3]\n",
      "[1, 2, 3]\n",
      "[1, 2, 3, 4]\n",
      "[1, 2, 3, 4]\n"
     ]
    }
   ],
   "source": [
    "a = [1,2,3]\n",
    "b = a\n",
    "print(a) ; print(b)\n",
    "\n",
    "b.append(4)\n",
    "\n",
    "print(a) ; print(b)"
   ]
  },
  {
   "cell_type": "code",
   "execution_count": 18,
   "id": "2132722b",
   "metadata": {},
   "outputs": [
    {
     "name": "stdout",
     "output_type": "stream",
     "text": [
      "<class 'float'> , <class 'int'>\n"
     ]
    },
    {
     "data": {
      "text/plain": [
       "2.25"
      ]
     },
     "execution_count": 18,
     "metadata": {},
     "output_type": "execute_result"
    }
   ],
   "source": [
    "a = 4.5\n",
    "b = 2\n",
    "print(f\"{type(a)} , {type(b)}\")\n",
    "a/b"
   ]
  },
  {
   "cell_type": "code",
   "execution_count": 20,
   "id": "53df640c",
   "metadata": {},
   "outputs": [
    {
     "name": "stdout",
     "output_type": "stream",
     "text": [
      "True\n",
      "True\n"
     ]
    }
   ],
   "source": [
    "a = 4.5\n",
    "b = 2\n",
    "print(isinstance(a, float))\n",
    "print(isinstance(b, (int, float)))"
   ]
  },
  {
   "cell_type": "code",
   "execution_count": 25,
   "id": "cf33262e",
   "metadata": {},
   "outputs": [
    {
     "data": {
      "text/plain": [
       "<function str.endswith>"
      ]
     },
     "execution_count": 25,
     "metadata": {},
     "output_type": "execute_result"
    }
   ],
   "source": [
    "a = \"foo\"\n",
    "# a.<TAB>\n",
    "getattr(a, \"endswith\")"
   ]
  },
  {
   "cell_type": "code",
   "execution_count": 29,
   "id": "b8510e21",
   "metadata": {},
   "outputs": [
    {
     "name": "stdout",
     "output_type": "stream",
     "text": [
      "True\n",
      "True\n",
      "False\n"
     ]
    }
   ],
   "source": [
    "def isiterable(obj):\n",
    "    try:\n",
    "        iter(obj)\n",
    "        return True\n",
    "    except TypeError:\n",
    "        return False\n",
    "print(isiterable(\"string\"))\n",
    "print(isiterable([1,2,3]))\n",
    "print(isiterable(1))"
   ]
  },
  {
   "cell_type": "code",
   "execution_count": 36,
   "id": "9619194d",
   "metadata": {},
   "outputs": [
    {
     "name": "stdout",
     "output_type": "stream",
     "text": [
      "7\n",
      "3.141592\n"
     ]
    }
   ],
   "source": [
    "# %load some_module_02\n",
    "# PI = 3.141592\n",
    "\n",
    "# def f(x):\n",
    "#     return x+2\n",
    "# def g(a,b):\n",
    "#     return a+b\n",
    "\n",
    "import some_module_02\n",
    "# from some_module_02 import f,g,PI\n",
    "# from some_module_02 import PI as pi, g as gf\n",
    "result = some_module_02.f(5)\n",
    "print(result)\n",
    "\n",
    "print(some_module_02.PI)"
   ]
  },
  {
   "cell_type": "code",
   "execution_count": 38,
   "id": "885859fb",
   "metadata": {},
   "outputs": [
    {
     "name": "stdout",
     "output_type": "stream",
     "text": [
      "True\n",
      "False\n",
      "False\n",
      "True\n",
      "True\n",
      "True\n"
     ]
    }
   ],
   "source": [
    "a = [1,2,3]\n",
    "b = a\n",
    "c = list(a)\n",
    "print(a is b)\n",
    "print(a is c)\n",
    "print(b is not c)\n",
    "\n",
    "print(a == b)\n",
    "print(a == c)\n",
    "print(b == c)"
   ]
  },
  {
   "cell_type": "code",
   "execution_count": 40,
   "id": "929d89cc",
   "metadata": {},
   "outputs": [
    {
     "name": "stdout",
     "output_type": "stream",
     "text": [
      "3\n",
      "['\\n', 'H', 'i', '\\n', 't', 'h', 'i', 's', ' ', 'i', 's', ' ', 'm', 'u', 'r', 'a', 'l', 'i', '\\n']\n"
     ]
    }
   ],
   "source": [
    "c = \"\"\"\n",
    "Hi\n",
    "this is murali\n",
    "\"\"\"\n",
    "print(c.count(\"\\n\"))\n",
    "\n",
    "s = list(c)\n",
    "print(s)"
   ]
  },
  {
   "cell_type": "code",
   "execution_count": 42,
   "id": "654fb68b",
   "metadata": {},
   "outputs": [
    {
     "name": "stdout",
     "output_type": "stream",
     "text": [
      "this\\has\\no\n"
     ]
    }
   ],
   "source": [
    "s = r\"this\\has\\no\"\n",
    "print(s)"
   ]
  },
  {
   "cell_type": "code",
   "execution_count": 45,
   "id": "3f8fd6c7",
   "metadata": {},
   "outputs": [
    {
     "data": {
      "text/plain": [
       "'4.56 murali are worth US $40'"
      ]
     },
     "execution_count": 45,
     "metadata": {},
     "output_type": "execute_result"
    }
   ],
   "source": [
    "template = \"{0:.2f} {1:s} are worth US ${2:d}\"\n",
    "template.format(4.5560, \"murali\", 40)"
   ]
  },
  {
   "cell_type": "code",
   "execution_count": 49,
   "id": "3d85ca19",
   "metadata": {},
   "outputs": [
    {
     "name": "stdout",
     "output_type": "stream",
     "text": [
      "español\n",
      "b'espa\\xc3\\xb1ol'\n",
      "español\n",
      "b'espa\\xf1ol'\n",
      "b'\\xff\\xfee\\x00s\\x00p\\x00a\\x00\\xf1\\x00o\\x00l\\x00'\n",
      "b'e\\x00s\\x00p\\x00a\\x00\\xf1\\x00o\\x00l\\x00'\n"
     ]
    }
   ],
   "source": [
    "val = \"español\"\n",
    "print(val)\n",
    "\n",
    "val_utf8 = val.encode('utf-8')\n",
    "print(val_utf8)\n",
    "\n",
    "print(val_utf8.decode(\"utf-8\"))\n",
    "\n",
    "print(val.encode(\"latin1\"))\n",
    "print(val.encode(\"utf-16\"))\n",
    "print(val.encode(\"utf-16le\"))"
   ]
  },
  {
   "cell_type": "code",
   "execution_count": 51,
   "id": "9d253896",
   "metadata": {},
   "outputs": [
    {
     "name": "stdout",
     "output_type": "stream",
     "text": [
      "b'this is bytes'\n",
      "this is bytes\n"
     ]
    }
   ],
   "source": [
    "bytes_val = b\"this is bytes\"\n",
    "print(bytes_val)\n",
    "\n",
    "print(bytes_val.decode(\"utf-8\"))"
   ]
  },
  {
   "cell_type": "code",
   "execution_count": 52,
   "id": "95dabb8a",
   "metadata": {},
   "outputs": [
    {
     "name": "stdout",
     "output_type": "stream",
     "text": [
      "3.141592\n",
      "3\n",
      "True\n",
      "False\n"
     ]
    }
   ],
   "source": [
    "s = \"3.141592\"\n",
    "fval = float(s)\n",
    "print(fval)\n",
    "print(int(fval))\n",
    "print(bool(fval))\n",
    "print(bool(0))"
   ]
  },
  {
   "cell_type": "code",
   "execution_count": 54,
   "id": "e8893efa",
   "metadata": {},
   "outputs": [
    {
     "name": "stdout",
     "output_type": "stream",
     "text": [
      "True\n",
      "True\n",
      "<class 'NoneType'>\n"
     ]
    }
   ],
   "source": [
    "a = None\n",
    "print(a is None)\n",
    "print(a == None)\n",
    "\n",
    "print(type(None))"
   ]
  },
  {
   "cell_type": "code",
   "execution_count": 56,
   "id": "b574981b",
   "metadata": {},
   "outputs": [
    {
     "name": "stdout",
     "output_type": "stream",
     "text": [
      "29\n",
      "30\n"
     ]
    }
   ],
   "source": [
    "from datetime import datetime, date, time\n",
    "dt = datetime(2011, 10, 29, 20, 30, 21)\n",
    "print(dt.day)\n",
    "print(dt.minute)"
   ]
  },
  {
   "cell_type": "code",
   "execution_count": 58,
   "id": "a677516a",
   "metadata": {},
   "outputs": [
    {
     "name": "stdout",
     "output_type": "stream",
     "text": [
      "2011-10-29\n",
      "20:30:21\n"
     ]
    }
   ],
   "source": [
    "print(dt.date())\n",
    "print(dt.time())"
   ]
  },
  {
   "cell_type": "code",
   "execution_count": 60,
   "id": "81943528",
   "metadata": {},
   "outputs": [
    {
     "name": "stdout",
     "output_type": "stream",
     "text": [
      "10/29/2011 20:30\n",
      "2009-10-31 00:00:00\n"
     ]
    }
   ],
   "source": [
    "print(dt.strftime(\"%m/%d/%Y %H:%M\"))\n",
    "print(datetime.strptime(\"20091031\", \"%Y%m%d\"))"
   ]
  },
  {
   "cell_type": "code",
   "execution_count": 61,
   "id": "73884fef",
   "metadata": {},
   "outputs": [
    {
     "name": "stdout",
     "output_type": "stream",
     "text": [
      "2011-10-29 20:00:00\n"
     ]
    }
   ],
   "source": [
    "print(dt.replace(minute=0, second=0))"
   ]
  },
  {
   "cell_type": "code",
   "execution_count": 65,
   "id": "536a6775",
   "metadata": {},
   "outputs": [
    {
     "name": "stdout",
     "output_type": "stream",
     "text": [
      "2011-10-29 20:30:21\n",
      "2011-11-15 22:30:00\n",
      "17 days, 1:59:39\n"
     ]
    }
   ],
   "source": [
    "dt2 = datetime(2011,11,15,22,30)\n",
    "delta = dt2-dt\n",
    "print(dt)\n",
    "print(dt2)\n",
    "print(delta)"
   ]
  },
  {
   "cell_type": "code",
   "execution_count": 66,
   "id": "2116388f",
   "metadata": {},
   "outputs": [
    {
     "name": "stdout",
     "output_type": "stream",
     "text": [
      "12\n"
     ]
    }
   ],
   "source": [
    "seq = [1, 2, None, 4, None, 5]\n",
    "t = 0\n",
    "for i in seq:\n",
    "    if i is None:\n",
    "        continue\n",
    "    t += i\n",
    "print(t)"
   ]
  },
  {
   "cell_type": "code",
   "execution_count": 68,
   "id": "8349a748",
   "metadata": {},
   "outputs": [
    {
     "data": {
      "text/plain": [
       "'negative'"
      ]
     },
     "execution_count": 68,
     "metadata": {},
     "output_type": "execute_result"
    }
   ],
   "source": [
    "# Ternary expressions\n",
    "x = -5\n",
    "\"Non-negative\" if x>=0 else \"negative\""
   ]
  }
 ],
 "metadata": {
  "kernelspec": {
   "display_name": "Python 3",
   "language": "python",
   "name": "python3"
  },
  "language_info": {
   "codemirror_mode": {
    "name": "ipython",
    "version": 3
   },
   "file_extension": ".py",
   "mimetype": "text/x-python",
   "name": "python",
   "nbconvert_exporter": "python",
   "pygments_lexer": "ipython3",
   "version": "3.7.10"
  }
 },
 "nbformat": 4,
 "nbformat_minor": 5
}
